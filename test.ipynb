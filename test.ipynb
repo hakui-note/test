{
  "nbformat": 4,
  "nbformat_minor": 0,
  "metadata": {
    "colab": {
      "provenance": [],
      "authorship_tag": "ABX9TyPp0WWbTu/BkTEz3NrPat3r",
      "include_colab_link": true
    },
    "kernelspec": {
      "name": "python3",
      "display_name": "Python 3"
    },
    "language_info": {
      "name": "python"
    }
  },
  "cells": [
    {
      "cell_type": "markdown",
      "metadata": {
        "id": "view-in-github",
        "colab_type": "text"
      },
      "source": [
        "<a href=\"https://colab.research.google.com/github/hakui-note/test/blob/main/test.ipynb\" target=\"_parent\"><img src=\"https://colab.research.google.com/assets/colab-badge.svg\" alt=\"Open In Colab\"/></a>"
      ]
    },
    {
      "cell_type": "code",
      "source": [
        "!echo \"# test\" >> README.md\n",
        "!git init\n",
        "!git add README.md\n",
        "!git commit -m \"first commit\"\n",
        "!git branch -M main\n",
        "!git remote add origin https://github.com/hakui-note/test.git\n",
        "!git push -u origin main"
      ],
      "metadata": {
        "colab": {
          "base_uri": "https://localhost:8080/"
        },
        "id": "FoNqXci9ev5v",
        "outputId": "53dc6a8d-3968-444d-bf09-e6dedba16051"
      },
      "execution_count": null,
      "outputs": [
        {
          "output_type": "stream",
          "name": "stdout",
          "text": [
            "Initialized empty Git repository in /content/.git/\n",
            "\n",
            "*** Please tell me who you are.\n",
            "\n",
            "Run\n",
            "\n",
            "  git config --global user.email \"you@example.com\"\n",
            "  git config --global user.name \"Your Name\"\n",
            "\n",
            "to set your account's default identity.\n",
            "Omit --global to set the identity only in this repository.\n",
            "\n",
            "fatal: unable to auto-detect email address (got 'root@da50c3e19274.(none)')\n",
            "error: refname refs/heads/master not found\n",
            "fatal: Branch rename failed\n",
            "error: src refspec main does not match any\n",
            "\u001b[31merror: failed to push some refs to 'https://github.com/hakui-note/test.git'\n",
            "\u001b[m"
          ]
        }
      ]
    },
    {
      "cell_type": "code",
      "source": [
        "# フィボナッチ数列\n",
        "def Fibonacci_sequence(n):\n",
        "  f,g = 0,1\n",
        "  for i in range(n):\n",
        "    print(g,end=\" \")\n",
        "    f,g = g,f+g\n",
        "\n",
        "Fibonacci_sequence(10)"
      ],
      "metadata": {
        "colab": {
          "base_uri": "https://localhost:8080/"
        },
        "id": "ylsukUWX-fe9",
        "outputId": "10ac3391-3dad-4e5c-f96e-314e5bffb943"
      },
      "execution_count": null,
      "outputs": [
        {
          "output_type": "stream",
          "name": "stdout",
          "text": [
            "1 1 2 3 5 8 13 21 34 55 "
          ]
        }
      ]
    },
    {
      "cell_type": "code",
      "source": [
        "# 素数判定\n",
        "def prime(n):\n",
        "  flag = True\n",
        "  for i in range(2, n):\n",
        "    if n % i == 0:\n",
        "      flag = False\n",
        "  if flag == True:\n",
        "    return str(n) + \"は素数です\"\n",
        "  return str(n) + \"は素数ではありません\"\n",
        "\n",
        "print(prime(5))"
      ],
      "metadata": {
        "colab": {
          "base_uri": "https://localhost:8080/"
        },
        "id": "XhUl5LKSCBCs",
        "outputId": "9c249696-0b7b-4793-84cb-7ed6fd174615"
      },
      "execution_count": null,
      "outputs": [
        {
          "output_type": "stream",
          "name": "stdout",
          "text": [
            "5は素数です\n"
          ]
        }
      ]
    },
    {
      "cell_type": "code",
      "source": [
        "#ボトルネック工場\n",
        "l,q = map(int,input().split())\n",
        "\n",
        "time = []\n",
        "start = 86400\n",
        "for i in range(q):\n",
        "  v,t = list(map(int,input().split()))\n",
        "  if start > t:\n",
        "    start = t\n",
        "  if v != 0:\n",
        "    time.append(l/v + t)\n",
        "\n",
        "dif = max(time)*10-int(max(time))*10\n",
        "if dif != 0:\n",
        "  print(int(max(time)-start+1))\n",
        "else:\n",
        "  print(int(max(time)-start))"
      ],
      "metadata": {
        "id": "siS8wx_p8iBz",
        "colab": {
          "base_uri": "https://localhost:8080/"
        },
        "outputId": "dc254379-bb13-458c-872a-5d22ae43f8a3"
      },
      "execution_count": null,
      "outputs": [
        {
          "output_type": "stream",
          "name": "stdout",
          "text": [
            "8724 7\n",
            "21 65\n",
            "94 84\n",
            "82 140\n",
            "0 165\n",
            "37 270\n",
            "54 283\n",
            "0 506\n",
            "65\n",
            "[480.42857142857144, 176.8085106382979, 246.390243902439, 505.78378378378375, 444.55555555555554]\n",
            "441\n"
          ]
        }
      ]
    },
    {
      "cell_type": "code",
      "source": [
        "#カードシャッフル\n",
        "n,m,k = map(int,input().split())\n",
        "c = list(range(1,n+1))\n",
        "d = n//m\n",
        "e = []\n",
        "#カード枚数がすべて同じの場合\n",
        "\n",
        "#分からん\n",
        "if n%m ==0:\n",
        "  for i in range(n//m):\n",
        "    x = m*i\n",
        "    y = m*i + 3\n",
        "    e.append(c[x:y])\n",
        "if n%m == 1:\n",
        "  for i in range(n//m):\n",
        "    x = m*i\n",
        "    y = m*i + 1\n",
        "    e.append(c[x:y])\n",
        "else:\n",
        "    for i in range(n//m):\n",
        "    x = m*i\n",
        "    y = m*i + 2\n",
        "    e.append(c[x:y])\n",
        "\n",
        "for i in range(k):\n",
        "  e.reverse()\n",
        "for j in e:\n",
        "  for line in j:\n",
        "    print(line)"
      ],
      "metadata": {
        "colab": {
          "base_uri": "https://localhost:8080/",
          "height": 135
        },
        "id": "ZTzNenfUMUzv",
        "outputId": "7737b4c2-d41d-4831-c687-a4103025753f"
      },
      "execution_count": null,
      "outputs": [
        {
          "output_type": "error",
          "ename": "IndentationError",
          "evalue": "ignored",
          "traceback": [
            "\u001b[0;36m  File \u001b[0;32m\"<ipython-input-40-b660ace4caed>\"\u001b[0;36m, line \u001b[0;32m19\u001b[0m\n\u001b[0;31m    x = m*i\u001b[0m\n\u001b[0m    ^\u001b[0m\n\u001b[0;31mIndentationError\u001b[0m\u001b[0;31m:\u001b[0m expected an indented block\n"
          ]
        }
      ]
    },
    {
      "cell_type": "code",
      "source": [
        "n = int(input())\n",
        "\n",
        "#名前のリストを作成\n",
        "name = []\n",
        "for i in range(n):\n",
        "    name.append(input())\n",
        "\n",
        "count = 0\n",
        "time = 0\n",
        "result = []\n",
        "for i in range(n):\n",
        "  #1文字目を探す\n",
        "  for j in range(len(name[i])):\n",
        "    for k in range(i+1,n):\n",
        "      for l in range(len(name[k])):\n",
        "        if name[i][j] == name[k][l]:\n",
        "          count += 1 \n",
        "          num = 1\n",
        "          print(name[i][j], name[k][l])\n",
        "          \n",
        "          #2文字目以降の検証\n",
        "          while len(name[i]) > j+num and len(name[k]) > l+num:\n",
        "            time += 1\n",
        "            #異なる場合\n",
        "            if name[i][j+num] != name[k][l+num]:\n",
        "              result.append(count)\n",
        "              num = 1\n",
        "              count = 0\n",
        "              break\n",
        "            #同じ場合\n",
        "            else:\n",
        "              count += 1\n",
        "              num += 1\n",
        "              print(name[i][j:j+num] != name[k][l:l+num])\n",
        "print(time)"
      ],
      "metadata": {
        "colab": {
          "base_uri": "https://localhost:8080/"
        },
        "id": "bAELxrjnpxe5",
        "outputId": "f7b8faa2-8291-4f50-916c-766ff80dd9dc"
      },
      "execution_count": null,
      "outputs": [
        {
          "output_type": "stream",
          "name": "stdout",
          "text": [
            "3\n",
            "tanaka\n",
            "nakata\n",
            "takahashi\n",
            "t t\n",
            "False\n",
            "t t\n",
            "False\n",
            "a a\n",
            "a a\n",
            "a a\n",
            "a a\n",
            "a a\n",
            "a a\n",
            "n n\n",
            "False\n",
            "False\n",
            "False\n",
            "a a\n",
            "False\n",
            "False\n",
            "a a\n",
            "a a\n",
            "a a\n",
            "False\n",
            "False\n",
            "a a\n",
            "a a\n",
            "k k\n",
            "False\n",
            "k k\n",
            "False\n",
            "a a\n",
            "a a\n",
            "a a\n",
            "a a\n",
            "a a\n",
            "a a\n",
            "a a\n",
            "False\n",
            "False\n",
            "a a\n",
            "a a\n",
            "k k\n",
            "False\n",
            "a a\n",
            "a a\n",
            "a a\n",
            "t t\n",
            "False\n",
            "a a\n",
            "a a\n",
            "a a\n",
            "31\n"
          ]
        }
      ]
    },
    {
      "cell_type": "code",
      "source": [
        "#B128:簡易的二次元バーコード\n",
        "n = input()\n",
        "\n",
        "#QRコードのリストを作成\n",
        "qr = []\n",
        "for i in range(len(n)):\n",
        "  qr_list = list(\"#\"*int(n[i]) + \".\" * (9-int(n[i])))\n",
        "  print(list)\n",
        "  qr[i//3][i%3].append(qr_list[i])\n",
        "  print(qr)"
      ],
      "metadata": {
        "colab": {
          "base_uri": "https://localhost:8080/",
          "height": 257
        },
        "id": "TDA70oAa-QIU",
        "outputId": "637b47b4-3edf-475a-936f-df803c86b9ff"
      },
      "execution_count": null,
      "outputs": [
        {
          "name": "stdout",
          "output_type": "stream",
          "text": [
            "123\n"
          ]
        },
        {
          "output_type": "error",
          "ename": "TypeError",
          "evalue": "ignored",
          "traceback": [
            "\u001b[0;31m---------------------------------------------------------------------------\u001b[0m",
            "\u001b[0;31mTypeError\u001b[0m                                 Traceback (most recent call last)",
            "\u001b[0;32m<ipython-input-18-d9816055000f>\u001b[0m in \u001b[0;36m<module>\u001b[0;34m\u001b[0m\n\u001b[1;32m      5\u001b[0m \u001b[0mqr\u001b[0m \u001b[0;34m=\u001b[0m \u001b[0;34m[\u001b[0m\u001b[0;34m]\u001b[0m\u001b[0;34m\u001b[0m\u001b[0;34m\u001b[0m\u001b[0m\n\u001b[1;32m      6\u001b[0m \u001b[0;32mfor\u001b[0m \u001b[0mi\u001b[0m \u001b[0;32min\u001b[0m \u001b[0mrange\u001b[0m\u001b[0;34m(\u001b[0m\u001b[0mlen\u001b[0m\u001b[0;34m(\u001b[0m\u001b[0mn\u001b[0m\u001b[0;34m)\u001b[0m\u001b[0;34m)\u001b[0m\u001b[0;34m:\u001b[0m\u001b[0;34m\u001b[0m\u001b[0;34m\u001b[0m\u001b[0m\n\u001b[0;32m----> 7\u001b[0;31m   \u001b[0mqr_list\u001b[0m \u001b[0;34m=\u001b[0m \u001b[0mlist\u001b[0m\u001b[0;34m(\u001b[0m\u001b[0;34m\"#\"\u001b[0m\u001b[0;34m*\u001b[0m\u001b[0mint\u001b[0m\u001b[0;34m(\u001b[0m\u001b[0mn\u001b[0m\u001b[0;34m[\u001b[0m\u001b[0mi\u001b[0m\u001b[0;34m]\u001b[0m\u001b[0;34m)\u001b[0m \u001b[0;34m+\u001b[0m \u001b[0;34m\".\"\u001b[0m \u001b[0;34m*\u001b[0m \u001b[0;34m(\u001b[0m\u001b[0;36m9\u001b[0m\u001b[0;34m-\u001b[0m\u001b[0mint\u001b[0m\u001b[0;34m(\u001b[0m\u001b[0mn\u001b[0m\u001b[0;34m[\u001b[0m\u001b[0mi\u001b[0m\u001b[0;34m]\u001b[0m\u001b[0;34m)\u001b[0m\u001b[0;34m)\u001b[0m\u001b[0;34m)\u001b[0m\u001b[0;34m\u001b[0m\u001b[0;34m\u001b[0m\u001b[0m\n\u001b[0m\u001b[1;32m      8\u001b[0m   \u001b[0mprint\u001b[0m\u001b[0;34m(\u001b[0m\u001b[0mlist\u001b[0m\u001b[0;34m)\u001b[0m\u001b[0;34m\u001b[0m\u001b[0;34m\u001b[0m\u001b[0m\n\u001b[1;32m      9\u001b[0m   \u001b[0mqr\u001b[0m\u001b[0;34m[\u001b[0m\u001b[0mi\u001b[0m\u001b[0;34m//\u001b[0m\u001b[0;36m3\u001b[0m\u001b[0;34m]\u001b[0m\u001b[0;34m[\u001b[0m\u001b[0mi\u001b[0m\u001b[0;34m%\u001b[0m\u001b[0;36m3\u001b[0m\u001b[0;34m]\u001b[0m\u001b[0;34m.\u001b[0m\u001b[0mappend\u001b[0m\u001b[0;34m(\u001b[0m\u001b[0mqr_list\u001b[0m\u001b[0;34m[\u001b[0m\u001b[0mi\u001b[0m\u001b[0;34m]\u001b[0m\u001b[0;34m)\u001b[0m\u001b[0;34m\u001b[0m\u001b[0;34m\u001b[0m\u001b[0m\n",
            "\u001b[0;31mTypeError\u001b[0m: 'list' object is not callable"
          ]
        }
      ]
    },
    {
      "cell_type": "code",
      "source": [
        "#C126:宿泊費と交通費\n",
        "#交通費a、宿泊費b、インターン回数nを入力\n",
        "a, b, n = map(int,input().split())\n",
        "#初日と最終日の交通費を入力\n",
        "total = a*2\n",
        "day = 0\n",
        "x_list = []\n",
        "y_list = []\n",
        "for i in range(n):\n",
        "    #インターン日数を入力\n",
        "    x, y = list(map(int,input().split()))\n",
        "    #x, yをリストに格納\n",
        "    x_list.append(x)\n",
        "    y_list.append(y)\n",
        "\n",
        "#経費を計算\n",
        "for i in range(n-1):\n",
        "  #空き日を計算\n",
        "  space_day = x_list[i+1] - y_list[i]\n",
        "  #空き日が1日の場合、宿泊費を計上\n",
        "  if space_day == 1:\n",
        "    total += b\n",
        "  #空き日が2日以上\n",
        "  else:\n",
        "    #交通費のほうが安い場合\n",
        "    if a*2 < (x_list[i+1] - y_list[i]) * b:\n",
        "      total += a*2\n",
        "    #宿泊費のほうが安い場合\n",
        "    else:\n",
        "      total += int(x_list[i+1] - y_list[i]) * b\n",
        "print(total)"
      ],
      "metadata": {
        "colab": {
          "base_uri": "https://localhost:8080/"
        },
        "id": "sLbEmWVdQo6s",
        "outputId": "457e45c6-04ae-45c5-fee1-3c726079483d"
      },
      "execution_count": null,
      "outputs": [
        {
          "output_type": "stream",
          "name": "stdout",
          "text": [
            "100 1 3\n",
            "1 2\n",
            "10 15\n",
            "30 50\n",
            "[1, 10, 30] [2, 15, 50]\n",
            "223\n"
          ]
        }
      ]
    },
    {
      "cell_type": "code",
      "source": [
        "# 相性チェック\n",
        "# 文字列を入力\n",
        "s, t = input().split()\n",
        "#s, tを結合\n",
        "a = str(s)+str(t)\n",
        "b = []\n",
        "e = str(t)+str(s)\n",
        "d = []\n",
        "#アルファベットから数字に変換\n",
        "for i in a:\n",
        "  b.append(ord(i)-96)\n",
        "for k in e:\n",
        "  d.append(ord(k)-96)\n",
        "\n",
        "c = b\n",
        "# 隣同士を足し算\n",
        "# リストの長さが1になるまで繰り返す\n",
        "len_c = len(c)\n",
        "while len_c > 1:\n",
        "  for i in range(len(c)-1):\n",
        "    if c[i] + c[i+1] > 101:\n",
        "      c[i] = c[i] + c[i+1] - 101\n",
        "    else:\n",
        "      c[i] = c[i] + c[i+1]\n",
        "  del c[-1]\n",
        "  len_c = len(c)\n",
        "print(c)\n",
        "\n",
        "len_d = len(d)\n",
        "while len_d > 1:\n",
        "  for i in range(len(d)-1):\n",
        "    if d[i] + d[i+1] > 101:\n",
        "      d[i] = d[i] + d[i+1] - 101\n",
        "    else:\n",
        "      d[i] = d[i] + d[i+1]\n",
        "  del d[-1]\n",
        "  len_d = len(d)\n",
        "print(d)\n",
        "\n",
        "if c > d:\n",
        "  print(c)\n",
        "else:\n",
        "  print(d)"
      ],
      "metadata": {
        "colab": {
          "base_uri": "https://localhost:8080/"
        },
        "id": "I9fmuPgix61j",
        "outputId": "b1abc7e0-2e1b-400e-ca50-d3d2b88575f1"
      },
      "execution_count": null,
      "outputs": [
        {
          "output_type": "stream",
          "name": "stdout",
          "text": [
            "pa iza\n",
            "[78]\n",
            "[83]\n",
            "[83]\n"
          ]
        }
      ]
    },
    {
      "cell_type": "code",
      "source": [
        "#連勤記録\n",
        "#nを入力\n",
        "n = int(input())\n",
        "a = []\n",
        "#リストを作る\n",
        "for i in range(n):\n",
        "    c,d = map(int,input().split())\n",
        "    a.append(c)\n",
        "    a.append(d)\n",
        "#リストを昇順で並べ替え\n",
        "a.sort()\n",
        "print(a)\n",
        "#リストの1番目と2番目の差から勤務日数を出す\n",
        "work_day = []\n",
        "w = a[1] - a[0]\n",
        "work_day.append(w)\n",
        "#もしi番目とi+1番目の差が0か１だけなら連続日数\n",
        "for j in range(1,len(a)-2,2):\n",
        "  if a[j] == a[j+1]:\n",
        "    w = a[j+2] - a[j-1] + 1\n",
        "    work_day.append(w)\n",
        "    #さらに連続している場合\n",
        "  elif a[j] == a[j+1] - 1:\n",
        "    w = a[j+2] - a[j-1] + 1\n",
        "    work_day.append(w)\n",
        "print(max(work_day))"
      ],
      "metadata": {
        "colab": {
          "base_uri": "https://localhost:8080/"
        },
        "id": "m99TBNo7RNHB",
        "outputId": "f85963da-3567-421e-c2bd-c86d9b78cd9d"
      },
      "execution_count": null,
      "outputs": [
        {
          "output_type": "stream",
          "name": "stdout",
          "text": [
            "3\n",
            "1 4\n",
            "5 6\n",
            "3 7\n",
            "[1, 3, 4, 5, 6, 7]\n",
            "5\n"
          ]
        }
      ]
    },
    {
      "cell_type": "code",
      "source": [
        "#連勤記録\n",
        "#nを入力\n",
        "n = int(input())\n",
        "a = []\n",
        "#リストを作る\n",
        "for i in range(n):\n",
        "    c,d = map(int,input().split())\n",
        "    a.append(c)\n",
        "    a.append(d)\n",
        "#リストを昇順で並べ替え\n",
        "a.sort()\n",
        "print(a)\n",
        "#チェック表を作成\n",
        "work_day = [0] * a[-1]\n",
        "for j in range(1,len(a),2):\n",
        "  work_day[a[j-1]-1 : a[j]-1] = \"#\" * (a[j] - a[j-1] + 1)\n",
        "print(work_day)\n",
        "\n",
        "count = []\n",
        "c = 0\n",
        "for k in range(len(work_day) -1):\n",
        "  if work_day[k] ==\"#\":\n",
        "    c += 1\n",
        "  else:\n",
        "    count.append(c)\n",
        "    c = 0\n",
        "print(str(max(count)))"
      ],
      "metadata": {
        "colab": {
          "base_uri": "https://localhost:8080/"
        },
        "id": "Ev6g5AuZYJY4",
        "outputId": "f7355d8d-4288-4b9f-85bf-bcea1021c646"
      },
      "execution_count": null,
      "outputs": [
        {
          "output_type": "stream",
          "name": "stdout",
          "text": [
            "3\n",
            "1 4\n",
            "5 6\n",
            "3 7\n",
            "[1, 3, 4, 5, 6, 7]\n",
            "['#', '#', '#', '#', '#', '#', '#', 0, 0, 0]\n",
            "7\n"
          ]
        }
      ]
    },
    {
      "cell_type": "code",
      "source": [
        "# FizzBuzz問題\n",
        "for i in range(1, 20):\n",
        "  if i % 3 == 0 and i % 5 == 0:\n",
        "    print(\"FizzBuss\")\n",
        "  elif i % 3 == 0:\n",
        "    print(\"Fizz\")\n",
        "  elif i % 5 == 0:\n",
        "    print(\"Buss\")\n",
        "  else:\n",
        "    print(i)"
      ],
      "metadata": {
        "colab": {
          "base_uri": "https://localhost:8080/"
        },
        "id": "RLGlSUxKjydh",
        "outputId": "b430c5ed-4ed4-4c71-a065-ff90542144a0"
      },
      "execution_count": null,
      "outputs": [
        {
          "output_type": "stream",
          "name": "stdout",
          "text": [
            "1\n",
            "2\n",
            "Fizz\n",
            "4\n",
            "Buss\n",
            "Fizz\n",
            "7\n",
            "8\n",
            "Fizz\n",
            "Buss\n",
            "11\n",
            "Fizz\n",
            "13\n",
            "14\n",
            "FizzBuss\n",
            "16\n",
            "17\n",
            "Fizz\n",
            "19\n"
          ]
        }
      ]
    },
    {
      "cell_type": "code",
      "source": [
        "# 2021 一橋大学第1問\n",
        "# 1000以下の素数は250個以下であることを示せ。\n",
        "count = 0\n",
        "for i in range(1, 1001):\n",
        "  # 約数を持つ数字の個数から考える\n",
        "  if i % 2 == 0:\n",
        "    count += 1\n",
        "  elif i % 3 == 0 and i % 2 != 0:\n",
        "    count += 1\n",
        "  elif i % 5 == 0 and i % 3 != 0 and i % 2 != 0:\n",
        "    count += 1\n",
        "  elif i % 7 == 0 and i % 5 != 0 and i % 3 != 0 and i % 2 != 0:\n",
        "    count += 1\n",
        "print(1000 - count)"
      ],
      "metadata": {
        "colab": {
          "base_uri": "https://localhost:8080/"
        },
        "id": "rwLhz45Rlsos",
        "outputId": "10495da2-16cb-4d08-8374-2a0d297b4185"
      },
      "execution_count": null,
      "outputs": [
        {
          "output_type": "stream",
          "name": "stdout",
          "text": [
            "228\n"
          ]
        }
      ]
    }
  ]
}