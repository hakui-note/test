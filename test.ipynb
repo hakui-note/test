{
  "nbformat": 4,
  "nbformat_minor": 0,
  "metadata": {
    "colab": {
      "provenance": [],
      "authorship_tag": "ABX9TyNC9AzA1IiixFuZ6vlOIb8j",
      "include_colab_link": true
    },
    "kernelspec": {
      "name": "python3",
      "display_name": "Python 3"
    },
    "language_info": {
      "name": "python"
    }
  },
  "cells": [
    {
      "cell_type": "markdown",
      "metadata": {
        "id": "view-in-github",
        "colab_type": "text"
      },
      "source": [
        "<a href=\"https://colab.research.google.com/github/hakui-note/test/blob/main/test.ipynb\" target=\"_parent\"><img src=\"https://colab.research.google.com/assets/colab-badge.svg\" alt=\"Open In Colab\"/></a>"
      ]
    },
    {
      "cell_type": "code",
      "source": [
        "# フィボナッチ数列\n",
        "def Fibonacci_sequence(n):\n",
        "  f,g = 0,1\n",
        "  for i in range(n):\n",
        "    print(g,end=\" \")\n",
        "    f,g = g,f+g\n",
        "\n",
        "Fibonacci_sequence(10)"
      ],
      "metadata": {
        "colab": {
          "base_uri": "https://localhost:8080/"
        },
        "id": "ylsukUWX-fe9",
        "outputId": "10ac3391-3dad-4e5c-f96e-314e5bffb943"
      },
      "execution_count": null,
      "outputs": [
        {
          "output_type": "stream",
          "name": "stdout",
          "text": [
            "1 1 2 3 5 8 13 21 34 55 "
          ]
        }
      ]
    },
    {
      "cell_type": "code",
      "source": [
        "# 素数判定\n",
        "def prime(n):\n",
        "  flag = True\n",
        "  for i in range(2, n):\n",
        "    if n % i == 0:\n",
        "      flag = False\n",
        "  if flag == True:\n",
        "    return str(n) + \"は素数です\"\n",
        "  return str(n) + \"は素数ではありません\"\n",
        "\n",
        "print(prime(5))"
      ],
      "metadata": {
        "colab": {
          "base_uri": "https://localhost:8080/"
        },
        "id": "XhUl5LKSCBCs",
        "outputId": "9c249696-0b7b-4793-84cb-7ed6fd174615"
      },
      "execution_count": null,
      "outputs": [
        {
          "output_type": "stream",
          "name": "stdout",
          "text": [
            "5は素数です\n"
          ]
        }
      ]
    },
    {
      "cell_type": "code",
      "source": [
        "# FizzBuzz問題\n",
        "for i in range(1, 20):\n",
        "  if i % 3 == 0 and i % 5 == 0:\n",
        "    print(\"FizzBuss\")\n",
        "  elif i % 3 == 0:\n",
        "    print(\"Fizz\")\n",
        "  elif i % 5 == 0:\n",
        "    print(\"Buss\")\n",
        "  else:\n",
        "    print(i)"
      ],
      "metadata": {
        "colab": {
          "base_uri": "https://localhost:8080/"
        },
        "id": "RLGlSUxKjydh",
        "outputId": "b430c5ed-4ed4-4c71-a065-ff90542144a0"
      },
      "execution_count": null,
      "outputs": [
        {
          "output_type": "stream",
          "name": "stdout",
          "text": [
            "1\n",
            "2\n",
            "Fizz\n",
            "4\n",
            "Buss\n",
            "Fizz\n",
            "7\n",
            "8\n",
            "Fizz\n",
            "Buss\n",
            "11\n",
            "Fizz\n",
            "13\n",
            "14\n",
            "FizzBuss\n",
            "16\n",
            "17\n",
            "Fizz\n",
            "19\n"
          ]
        }
      ]
    },
    {
      "cell_type": "code",
      "source": [
        "# 2021 一橋大学第1問\n",
        "# 1000以下の素数は250個以下であることを示せ。\n",
        "count = 0\n",
        "for i in range(1, 1001):\n",
        "  # 約数を持つ数字の個数から考える\n",
        "  if i % 2 == 0:\n",
        "    count += 1\n",
        "  elif i % 3 == 0 and i % 2 != 0:\n",
        "    count += 1\n",
        "  elif i % 5 == 0 and i % 3 != 0 and i % 2 != 0:\n",
        "    count += 1\n",
        "  elif i % 7 == 0 and i % 5 != 0 and i % 3 != 0 and i % 2 != 0:\n",
        "    count += 1\n",
        "print(1000 - count)"
      ],
      "metadata": {
        "colab": {
          "base_uri": "https://localhost:8080/"
        },
        "id": "rwLhz45Rlsos",
        "outputId": "10495da2-16cb-4d08-8374-2a0d297b4185"
      },
      "execution_count": null,
      "outputs": [
        {
          "output_type": "stream",
          "name": "stdout",
          "text": [
            "228\n"
          ]
        }
      ]
    }
  ]
}